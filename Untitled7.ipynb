{
  "nbformat": 4,
  "nbformat_minor": 0,
  "metadata": {
    "colab": {
      "name": "Untitled7.ipynb",
      "provenance": [],
      "include_colab_link": true
    },
    "kernelspec": {
      "name": "python3",
      "display_name": "Python 3"
    },
    "language_info": {
      "name": "python"
    }
  },
  "cells": [
    {
      "cell_type": "markdown",
      "metadata": {
        "id": "view-in-github",
        "colab_type": "text"
      },
      "source": [
        "<a href=\"https://colab.research.google.com/github/AndreaBarajas15/intento/blob/main/Untitled7.ipynb\" target=\"_parent\"><img src=\"https://colab.research.google.com/assets/colab-badge.svg\" alt=\"Open In Colab\"/></a>"
      ]
    },
    {
      "cell_type": "markdown",
      "source": [
        "importando librerias"
      ],
      "metadata": {
        "id": "ijIFaDwvJqJY"
      }
    },
    {
      "cell_type": "code",
      "source": [
        "from io import IncrementalNewlineDecoder\n",
        "import numpy as np\n",
        "from scipy import misc\n",
        "from PIL import Image\n",
        "import glob\n",
        "import matplotlib.pyplot as plt\n",
        "import scipy.misc\n",
        "from matplotlib.pyplot import imshow\n",
        "%matplotlib inline\n",
        "from IPython.display import SVG\n",
        "import cv2\n",
        "import seaborn as sn\n",
        "import pandas as pd\n",
        "import pickle\n",
        "from keras import layers \n",
        "from keras.layers import Flatten, Input, Add, Dense, Activation, ZeroPadding2D, BatchNormalization, Conv2D,AveragePooling2D,MaxPooling2D,GlobalAveragePooling2D,Dropout\n",
        "from keras.models import Sequential, Model, load_model\n",
        "from keras.preprocessing import image\n",
        "from keras.preprocessing.image import load_img\n",
        "from keras.preprocessing.image import img_to_array\n",
        "from keras.applications.imagenet_utils import decode_predictions\n",
        "from keras.utils import layer_utils, np_utils\n",
        "from keras.utils.data_utils import get_file\n",
        "from keras.applications.imagenet_utils import preprocess_input\n",
        "from keras.utils.vis_utils import model_to_dot\n",
        "from keras.utils.vis_utils import plot_model\n",
        "from keras.initializers import glorot_uniform\n",
        "from keras import losses\n",
        "import keras.backend as k\n",
        "from keras.callbacks import ModelCheckpoint\n",
        "from sklearn.metrics import confusion_matrix, classification_report\n",
        "import tensorflow as tf"
      ],
      "metadata": {
        "id": "0hr-5277cxYT"
      },
      "execution_count": 2,
      "outputs": []
    },
    {
      "cell_type": "code",
      "source": [
        "from keras.datasets import cifar100\n",
        "(x_train_original, y_train_original), (x_test_original, y_test_original) = cifar100.load_data(label_mode=('fine'))"
      ],
      "metadata": {
        "id": "U9PeOttXnHw5"
      },
      "execution_count": null,
      "outputs": []
    },
    {
      "cell_type": "code",
      "source": [
        "y_train_original.shape#la cantidad de datos"
      ],
      "metadata": {
        "colab": {
          "base_uri": "https://localhost:8080/"
        },
        "id": "jufm6ovqo1qu",
        "outputId": "15aed6e6-6d02-4a62-d9ae-980e658dcf35"
      },
      "execution_count": null,
      "outputs": [
        {
          "output_type": "execute_result",
          "data": {
            "text/plain": [
              "(50000, 1)"
            ]
          },
          "metadata": {},
          "execution_count": 58
        }
      ]
    },
    {
      "cell_type": "code",
      "source": [
        "y_test_original.shape"
      ],
      "metadata": {
        "colab": {
          "base_uri": "https://localhost:8080/"
        },
        "id": "r4JZo7HZv1-2",
        "outputId": "ad10dfd6-e127-4663-8281-7d93a5b6c693"
      },
      "execution_count": null,
      "outputs": [
        {
          "output_type": "execute_result",
          "data": {
            "text/plain": [
              "(10000, 1)"
            ]
          },
          "metadata": {},
          "execution_count": 59
        }
      ]
    },
    {
      "cell_type": "code",
      "source": [
        "y_train_original# estos son los arreglos"
      ],
      "metadata": {
        "colab": {
          "base_uri": "https://localhost:8080/"
        },
        "id": "eFEyvEqCpDIX",
        "outputId": "7475a9b3-d04a-4e6f-8bce-aaa74dbdef91"
      },
      "execution_count": null,
      "outputs": [
        {
          "output_type": "execute_result",
          "data": {
            "text/plain": [
              "array([[19],\n",
              "       [29],\n",
              "       [ 0],\n",
              "       ...,\n",
              "       [ 3],\n",
              "       [ 7],\n",
              "       [73]])"
            ]
          },
          "metadata": {},
          "execution_count": 60
        }
      ]
    },
    {
      "cell_type": "code",
      "source": [
        "y_train = np_utils.to_categorical(y_train_original, 100)\n",
        "y_test = np_utils.to_categorical(y_test_original, 100)"
      ],
      "metadata": {
        "id": "B3OHpzcppTs-"
      },
      "execution_count": null,
      "outputs": []
    },
    {
      "cell_type": "code",
      "source": [
        "y_train.shape"
      ],
      "metadata": {
        "colab": {
          "base_uri": "https://localhost:8080/"
        },
        "id": "7iJEJlx7taoP",
        "outputId": "4153323e-d875-4f90-a44e-2c978fe21ed1"
      },
      "execution_count": null,
      "outputs": [
        {
          "output_type": "execute_result",
          "data": {
            "text/plain": [
              "(50000, 100)"
            ]
          },
          "metadata": {},
          "execution_count": 51
        }
      ]
    },
    {
      "cell_type": "code",
      "source": [
        "y_test.shape"
      ],
      "metadata": {
        "colab": {
          "base_uri": "https://localhost:8080/"
        },
        "id": "C18GvFgStk0x",
        "outputId": "c8a0e49a-2975-4ea4-8885-ffab610a3b4e"
      },
      "execution_count": null,
      "outputs": [
        {
          "output_type": "execute_result",
          "data": {
            "text/plain": [
              "(10000, 100)"
            ]
          },
          "metadata": {},
          "execution_count": 52
        }
      ]
    },
    {
      "cell_type": "code",
      "source": [
        "y_train"
      ],
      "metadata": {
        "colab": {
          "base_uri": "https://localhost:8080/"
        },
        "id": "g0aNgECUtq-j",
        "outputId": "a3353661-366b-4d25-e0b6-0b6ff3c81bb4"
      },
      "execution_count": null,
      "outputs": [
        {
          "output_type": "execute_result",
          "data": {
            "text/plain": [
              "array([[0., 0., 0., ..., 0., 0., 0.],\n",
              "       [0., 0., 0., ..., 0., 0., 0.],\n",
              "       [1., 0., 0., ..., 0., 0., 0.],\n",
              "       ...,\n",
              "       [0., 0., 0., ..., 0., 0., 0.],\n",
              "       [0., 0., 0., ..., 0., 0., 0.],\n",
              "       [0., 0., 0., ..., 0., 0., 0.]], dtype=float32)"
            ]
          },
          "metadata": {},
          "execution_count": 53
        }
      ]
    },
    {
      "cell_type": "code",
      "source": [
        "x_train_original.shape# te da una matriz de 3*3\n",
        "# el 3 es por la escala de grises "
      ],
      "metadata": {
        "colab": {
          "base_uri": "https://localhost:8080/"
        },
        "id": "ygbGcNSMtxJR",
        "outputId": "84e0cf5a-d262-4dd0-8206-1977d7ffe169"
      },
      "execution_count": null,
      "outputs": [
        {
          "output_type": "execute_result",
          "data": {
            "text/plain": [
              "(50000, 32, 32, 3)"
            ]
          },
          "metadata": {},
          "execution_count": 54
        }
      ]
    },
    {
      "cell_type": "code",
      "source": [
        "x_train_original[0]#aqui imprimimos las 3 matrizes de cada elemento"
      ],
      "metadata": {
        "colab": {
          "base_uri": "https://localhost:8080/"
        },
        "id": "l88yp78Ct43j",
        "outputId": "b53ec94b-1383-4933-8a84-1117dd5685ba"
      },
      "execution_count": null,
      "outputs": [
        {
          "output_type": "execute_result",
          "data": {
            "text/plain": [
              "array([[[255, 255, 255],\n",
              "        [255, 255, 255],\n",
              "        [255, 255, 255],\n",
              "        ...,\n",
              "        [195, 205, 193],\n",
              "        [212, 224, 204],\n",
              "        [182, 194, 167]],\n",
              "\n",
              "       [[255, 255, 255],\n",
              "        [254, 254, 254],\n",
              "        [254, 254, 254],\n",
              "        ...,\n",
              "        [170, 176, 150],\n",
              "        [161, 168, 130],\n",
              "        [146, 154, 113]],\n",
              "\n",
              "       [[255, 255, 255],\n",
              "        [254, 254, 254],\n",
              "        [255, 255, 255],\n",
              "        ...,\n",
              "        [189, 199, 169],\n",
              "        [166, 178, 130],\n",
              "        [121, 133,  87]],\n",
              "\n",
              "       ...,\n",
              "\n",
              "       [[148, 185,  79],\n",
              "        [142, 182,  57],\n",
              "        [140, 179,  60],\n",
              "        ...,\n",
              "        [ 30,  17,   1],\n",
              "        [ 65,  62,  15],\n",
              "        [ 76,  77,  20]],\n",
              "\n",
              "       [[122, 157,  66],\n",
              "        [120, 155,  58],\n",
              "        [126, 160,  71],\n",
              "        ...,\n",
              "        [ 22,  16,   3],\n",
              "        [ 97, 112,  56],\n",
              "        [141, 161,  87]],\n",
              "\n",
              "       [[ 87, 122,  41],\n",
              "        [ 88, 122,  39],\n",
              "        [101, 134,  56],\n",
              "        ...,\n",
              "        [ 34,  36,  10],\n",
              "        [105, 133,  59],\n",
              "        [138, 173,  79]]], dtype=uint8)"
            ]
          },
          "metadata": {},
          "execution_count": 55
        }
      ]
    },
    {
      "cell_type": "code",
      "source": [
        "imgplot = plt.imshow(x_train_original[49999]) #aqui le estamos pidiendo el ultimo dato\n",
        "plt.show#aqui se muestra \n",
        "# se comprueba que esta dentro del rango"
      ],
      "metadata": {
        "colab": {
          "base_uri": "https://localhost:8080/",
          "height": 283
        },
        "id": "ZabuygMzt-Zl",
        "outputId": "80ca9f56-e443-4c65-f080-db3b91129c78"
      },
      "execution_count": null,
      "outputs": [
        {
          "output_type": "execute_result",
          "data": {
            "text/plain": [
              "<function matplotlib.pyplot.show>"
            ]
          },
          "metadata": {},
          "execution_count": 64
        },
        {
          "output_type": "display_data",
          "data": {
            "text/plain": [
              "<Figure size 432x288 with 1 Axes>"
            ],
            "image/png": "[encoded data removed]"
          },
          "metadata": {
            "needs_background": "light"
          }
        }
      ]
    },
    {
      "cell_type": "code",
      "source": [
        "x_train = x_train_original/255.0\n",
        "x_test = x_test_original/255.0"
      ],
      "metadata": {
        "id": "g8yDdpuOx43h"
      },
      "execution_count": null,
      "outputs": []
    },
    {
      "cell_type": "code",
      "source": [
        "x_train.shape"
      ],
      "metadata": {
        "colab": {
          "base_uri": "https://localhost:8080/"
        },
        "id": "y1RN-8aWyJ1r",
        "outputId": "9ffedb0e-0c3d-4e9e-e3ba-122a8f4da037"
      },
      "execution_count": null,
      "outputs": [
        {
          "output_type": "execute_result",
          "data": {
            "text/plain": [
              "(50000, 32, 32, 3)"
            ]
          },
          "metadata": {},
          "execution_count": 65
        }
      ]
    },
    {
      "cell_type": "code",
      "source": [
        "x_train[0]"
      ],
      "metadata": {
        "colab": {
          "base_uri": "https://localhost:8080/"
        },
        "id": "1CEAozzEzAz7",
        "outputId": "3a29cde3-18cc-4bf5-bca4-44ed3296525f"
      },
      "execution_count": null,
      "outputs": [
        {
          "output_type": "execute_result",
          "data": {
            "text/plain": [
              "array([[[1.        , 1.        , 1.        ],\n",
              "        [1.        , 1.        , 1.        ],\n",
              "        [1.        , 1.        , 1.        ],\n",
              "        ...,\n",
              "        [0.76470588, 0.80392157, 0.75686275],\n",
              "        [0.83137255, 0.87843137, 0.8       ],\n",
              "        [0.71372549, 0.76078431, 0.65490196]],\n",
              "\n",
              "       [[1.        , 1.        , 1.        ],\n",
              "        [0.99607843, 0.99607843, 0.99607843],\n",
              "        [0.99607843, 0.99607843, 0.99607843],\n",
              "        ...,\n",
              "        [0.66666667, 0.69019608, 0.58823529],\n",
              "        [0.63137255, 0.65882353, 0.50980392],\n",
              "        [0.57254902, 0.60392157, 0.44313725]],\n",
              "\n",
              "       [[1.        , 1.        , 1.        ],\n",
              "        [0.99607843, 0.99607843, 0.99607843],\n",
              "        [1.        , 1.        , 1.        ],\n",
              "        ...,\n",
              "        [0.74117647, 0.78039216, 0.6627451 ],\n",
              "        [0.65098039, 0.69803922, 0.50980392],\n",
              "        [0.4745098 , 0.52156863, 0.34117647]],\n",
              "\n",
              "       ...,\n",
              "\n",
              "       [[0.58039216, 0.7254902 , 0.30980392],\n",
              "        [0.55686275, 0.71372549, 0.22352941],\n",
              "        [0.54901961, 0.70196078, 0.23529412],\n",
              "        ...,\n",
              "        [0.11764706, 0.06666667, 0.00392157],\n",
              "        [0.25490196, 0.24313725, 0.05882353],\n",
              "        [0.29803922, 0.30196078, 0.07843137]],\n",
              "\n",
              "       [[0.47843137, 0.61568627, 0.25882353],\n",
              "        [0.47058824, 0.60784314, 0.22745098],\n",
              "        [0.49411765, 0.62745098, 0.27843137],\n",
              "        ...,\n",
              "        [0.08627451, 0.0627451 , 0.01176471],\n",
              "        [0.38039216, 0.43921569, 0.21960784],\n",
              "        [0.55294118, 0.63137255, 0.34117647]],\n",
              "\n",
              "       [[0.34117647, 0.47843137, 0.16078431],\n",
              "        [0.34509804, 0.47843137, 0.15294118],\n",
              "        [0.39607843, 0.5254902 , 0.21960784],\n",
              "        ...,\n",
              "        [0.13333333, 0.14117647, 0.03921569],\n",
              "        [0.41176471, 0.52156863, 0.23137255],\n",
              "        [0.54117647, 0.67843137, 0.30980392]]])"
            ]
          },
          "metadata": {},
          "execution_count": 66
        }
      ]
    },
    {
      "cell_type": "code",
      "source": [
        "k.set_image_data_format('channels_last')"
      ],
      "metadata": {
        "id": "_Iut-N0DzUFs"
      },
      "execution_count": null,
      "outputs": []
    },
    {
      "cell_type": "code",
      "source": [
        "k.set_learning_phase(1)"
      ],
      "metadata": {
        "colab": {
          "base_uri": "https://localhost:8080/"
        },
        "id": "DsyG__BR0EbS",
        "outputId": "b442a716-1b52-4bc0-cc2b-7bb26dfda51b"
      },
      "execution_count": null,
      "outputs": [
        {
          "output_type": "stream",
          "name": "stderr",
          "text": [
            "/usr/local/lib/python3.7/dist-packages/keras/backend.py:450: UserWarning: `tf.keras.backend.set_learning_phase` is deprecated and will be removed after 2020-10-11. To update it, simply pass a True/False value to the `training` argument of the `__call__` method of your layer or model.\n",
            "  warnings.warn('`tf.keras.backend.set_learning_phase` is deprecated and '\n"
          ]
        }
      ]
    },
    {
      "cell_type": "code",
      "source": [
        "def create_simple_nn():\n",
        "  model = Sequential()# el modelo secuencial es una pila lineal de capas\n",
        "  model.add(Flatten(input_shape=(32, 32, 3), name= \"Input_layers\"))# agregando capas \n",
        "  model.add(Dense(1000,  activation='relu', name= \"Hidden_layer_1\"))\n",
        "  model.add(Dense(500,  activation='relu', name= \"Hidden_layer_2\"))\n",
        "  model.add(Dense(100,  activation='softmax', name= \"Output_layer\"))\n",
        "  return model"
      ],
      "metadata": {
        "id": "GQs6Vqem1KPV"
      },
      "execution_count": null,
      "outputs": []
    },
    {
      "cell_type": "code",
      "source": [
        "snn_model = create_simple_nn()\n",
        "snn_model.compile(loss='categorical_crossentropy', optimizer='sgd', metrics=['acc', 'mse'])"
      ],
      "metadata": {
        "id": "iE8cg8s23bOK"
      },
      "execution_count": null,
      "outputs": []
    },
    {
      "cell_type": "code",
      "source": [
        "snn_model.summary()"
      ],
      "metadata": {
        "colab": {
          "base_uri": "https://localhost:8080/"
        },
        "id": "zLAIT4ju4GWy",
        "outputId": "b971b71b-c359-4c8a-f209-b2435be43892"
      },
      "execution_count": null,
      "outputs": [
        {
          "output_type": "stream",
          "name": "stdout",
          "text": [
            "Model: \"sequential\"\n",
            "_________________________________________________________________\n",
            " Layer (type)                Output Shape              Param #   \n",
            "=================================================================\n",
            " Input_layers (Flatten)      (None, 3072)              0         \n",
            "                                                                 \n",
            " Hidden_layer_1 (Dense)      (None, 1000)              3073000   \n",
            "                                                                 \n",
            " Hidden_layer_2 (Dense)      (None, 500)               500500    \n",
            "                                                                 \n",
            " Output_layer (Dense)        (None, 100)               50100     \n",
            "                                                                 \n",
            "=================================================================\n",
            "Total params: 3,623,600\n",
            "Trainable params: 3,623,600\n",
            "Non-trainable params: 0\n",
            "_________________________________________________________________\n"
          ]
        }
      ]
    },
    {
      "cell_type": "code",
      "source": [
        "snn = snn_model.fit(x=x_train, y=y_train, batch_size=32, epochs=10, verbose=1, validation_data=(x_test, y_test), shuffle= True)"
      ],
      "metadata": {
        "colab": {
          "base_uri": "https://localhost:8080/"
        },
        "id": "k4HsWGsn42Mm",
        "outputId": "9d8ff508-4311-478c-9e88-58e30558de00"
      },
      "execution_count": null,
      "outputs": [
        {
          "output_type": "stream",
          "name": "stdout",
          "text": [
            "Epoch 1/10\n",
            "1563/1563 [==============================] - 36s 23ms/step - loss: 4.1657 - acc: 0.0740 - mse: 0.0097 - val_loss: 3.9314 - val_acc: 0.1103 - val_mse: 0.0096\n",
            "Epoch 2/10\n",
            "1563/1563 [==============================] - 37s 24ms/step - loss: 3.7852 - acc: 0.1313 - mse: 0.0095 - val_loss: 3.7133 - val_acc: 0.1406 - val_mse: 0.0094\n",
            "Epoch 3/10\n",
            "1563/1563 [==============================] - 36s 23ms/step - loss: 3.6230 - acc: 0.1605 - mse: 0.0093 - val_loss: 3.6184 - val_acc: 0.1610 - val_mse: 0.0093\n",
            "Epoch 4/10\n",
            "1563/1563 [==============================] - 36s 23ms/step - loss: 3.5182 - acc: 0.1800 - mse: 0.0092 - val_loss: 3.5659 - val_acc: 0.1718 - val_mse: 0.0092\n",
            "Epoch 5/10\n",
            "1563/1563 [==============================] - 35s 22ms/step - loss: 3.4323 - acc: 0.1938 - mse: 0.0091 - val_loss: 3.4985 - val_acc: 0.1893 - val_mse: 0.0092\n",
            "Epoch 6/10\n",
            "1563/1563 [==============================] - 38s 25ms/step - loss: 3.3566 - acc: 0.2082 - mse: 0.0090 - val_loss: 3.4802 - val_acc: 0.1875 - val_mse: 0.0091\n",
            "Epoch 7/10\n",
            "1563/1563 [==============================] - 42s 27ms/step - loss: 3.2907 - acc: 0.2220 - mse: 0.0089 - val_loss: 3.4098 - val_acc: 0.1957 - val_mse: 0.0090\n",
            "Epoch 8/10\n",
            "1563/1563 [==============================] - 47s 30ms/step - loss: 3.2284 - acc: 0.2326 - mse: 0.0088 - val_loss: 3.3918 - val_acc: 0.2016 - val_mse: 0.0090\n",
            "Epoch 9/10\n",
            "1563/1563 [==============================] - 41s 26ms/step - loss: 3.1709 - acc: 0.2427 - mse: 0.0088 - val_loss: 3.3594 - val_acc: 0.2105 - val_mse: 0.0090\n",
            "Epoch 10/10\n",
            "1563/1563 [==============================] - 41s 26ms/step - loss: 3.1201 - acc: 0.2520 - mse: 0.0087 - val_loss: 3.3420 - val_acc: 0.2078 - val_mse: 0.0090\n"
          ]
        }
      ]
    },
    {
      "cell_type": "code",
      "source": [
        "eval= snn_model.evaluate(x=x_test, y=y_test, batch_size=32, verbose=1)\n",
        "eval# las metricas mostradadas son loss, acc, mean_squeared_error"
      ],
      "metadata": {
        "colab": {
          "base_uri": "https://localhost:8080/"
        },
        "id": "ln4csOWo7dnn",
        "outputId": "1e16bc00-978d-4680-c42a-50c1aaf1bd34"
      },
      "execution_count": null,
      "outputs": [
        {
          "output_type": "stream",
          "name": "stdout",
          "text": [
            "313/313 [==============================] - 3s 9ms/step - loss: 3.3420 - acc: 0.2078 - mse: 0.0090\n"
          ]
        },
        {
          "output_type": "execute_result",
          "data": {
            "text/plain": [
              "[3.3420331478118896, 0.2078000009059906, 0.008960586972534657]"
            ]
          },
          "metadata": {},
          "execution_count": 80
        }
      ]
    },
    {
      "cell_type": "code",
      "source": [
        "plt.figure(0)\n",
        "plt.plot(snn.history['acc'],'r')\n",
        "plt.plot(snn.history['val_acc'],'g')\n",
        "plt.xticks(np.arange(0, 11, 2.0))\n",
        "plt.rcParams['figure.figsize'] = (8, 6)\n",
        "plt.xlabel(\"num of Epochs\")\n",
        "plt.title(\"training accuracy vs Validation Accuracy\")#aciertos\n",
        "plt.legend(['train',  'validation'])\n",
        "\n",
        "plt.figure(0)\n",
        "plt.plot(snn.history['loss'],'r')\n",
        "plt.plot(snn.history['val_loss'],'g')\n",
        "plt.xticks(np.arange(0, 11, 2.0))\n",
        "plt.rcParams['figure.figsize']=(8, 6)\n",
        "plt.xlabel(\"Num Of Epochs\")\n",
        "plt.title(\"Training Accuracy vs Validation Accuracy\")#aciertos\n",
        "plt.legend(['train',  'validation'])\n",
        "\n",
        "plt.show()"
      ],
      "metadata": {
        "colab": {
          "base_uri": "https://localhost:8080/",
          "height": 404
        },
        "id": "-lw_ClTX8HB3",
        "outputId": "0c511e1a-d2ec-420b-edcc-3747fb9f000d"
      },
      "execution_count": null,
      "outputs": [
        {
          "output_type": "display_data",
          "data": {
            "text/plain": [
              "<Figure size 576x432 with 1 Axes>"
            ],
            "image/png": "[encoded data removed]"
          },
          "metadata": {
            "needs_background": "light"
          }
        }
      ]
    }
  ]
}